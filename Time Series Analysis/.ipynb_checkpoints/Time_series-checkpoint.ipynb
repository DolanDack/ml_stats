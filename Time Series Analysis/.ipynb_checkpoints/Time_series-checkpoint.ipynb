{
 "cells": [
  {
   "cell_type": "markdown",
   "metadata": {},
   "source": [
    "# Time-series Analysis with Python\n",
    "***"
   ]
  },
  {
   "cell_type": "markdown",
   "metadata": {},
   "source": [
    "## 1. Sources\n",
    "\n",
    "The material of the course is based on the UCL lecture notes as taught by Prof. Alexandros Beskos and from various textbooks.\n",
    "\n",
    "Sources:\n",
    "1. Time Series Analysis: With Applications in R (SE); Cryer D. Jonathan, Chan Kung-Sik; 2009\n",
    "2. Time Series: Theory and Methods (SE); Brockwell J. Peter, Davis A. Richard; 1991\n",
    "3. Forecasting; Beskos Alexandros; 2016\n",
    "\n",
    "***"
   ]
  },
  {
   "cell_type": "markdown",
   "metadata": {},
   "source": [
    "## 2. Introduction\n",
    "\n",
    "Time series is a sequence of consecutive and equally spaced observations measured over a period of time [3]. Forecasting is the academic field that aims to analyse the behaviour of these observations and infer statistical results that will help us predict future observations with the minimum error.\n"
   ]
  },
  {
   "cell_type": "markdown",
   "metadata": {},
   "source": [
    "Mathematically, we can depict these observations as a stochastic process **Y** ={Y<sub>1</sub>, ..., Y<sub>i</sub>, ..., Y<sub>N</sub>}, with 1:N being the discrete time, and then we can further break down the  __Y<sub>i</sub>__ into trend, seasonal behaviour and white noise (random effect)."
   ]
  },
  {
   "cell_type": "code",
   "execution_count": null,
   "metadata": {},
   "outputs": [],
   "source": []
  }
 ],
 "metadata": {
  "kernelspec": {
   "display_name": "Python 3",
   "language": "python",
   "name": "python3"
  },
  "language_info": {
   "codemirror_mode": {
    "name": "ipython",
    "version": 3
   },
   "file_extension": ".py",
   "mimetype": "text/x-python",
   "name": "python",
   "nbconvert_exporter": "python",
   "pygments_lexer": "ipython3",
   "version": "3.6.8"
  }
 },
 "nbformat": 4,
 "nbformat_minor": 2
}
